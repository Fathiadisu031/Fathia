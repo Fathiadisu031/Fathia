{
 "cells": [
  {
   "cell_type": "code",
   "execution_count": 1,
   "id": "ea8299a0",
   "metadata": {},
   "outputs": [
    {
     "name": "stdout",
     "output_type": "stream",
     "text": [
      "2.0 + 3.0 = 5.0\n"
     ]
    }
   ],
   "source": [
    "def calcualtor():\n",
    "    try :\n",
    "        a = float(input('Enter a num : '))\n",
    "        b = float(input('Enter a num : '))\n",
    "        operator = input('Enter a operator in + , - , * , /')\n",
    "        if operator == '+':\n",
    "            c = a + b\n",
    "            print(f\"{a} + {b} = {c}\")\n",
    "        elif operator == '-':\n",
    "            c = a - b \n",
    "            print(f\"{a} - {b} = {c}\")\n",
    "        elif operator == '*':\n",
    "            c = a * b\n",
    "            print(f\"{a} * {b} = {c}\")\n",
    "        elif operator == '/':\n",
    "            c = a / b\n",
    "            if b != 0:\n",
    "                print(f\"{a} + {b} = {c}\")\n",
    "            else:\n",
    "                return \"Division by zero is not allowed.\"\n",
    "        else:\n",
    "            return 'Please enter a valid operator'\n",
    "    except ValueError :\n",
    "        return \"Invalid input. Please enter numeric values.\"\n",
    "    \n",
    "calcualtor()\n",
    "\n",
    "        \n",
    "        \n",
    "    "
   ]
  }
 ],
 "metadata": {
  "kernelspec": {
   "display_name": "Python 3",
   "language": "python",
   "name": "python3"
  },
  "language_info": {
   "codemirror_mode": {
    "name": "ipython",
    "version": 3
   },
   "file_extension": ".py",
   "mimetype": "text/x-python",
   "name": "python",
   "nbconvert_exporter": "python",
   "pygments_lexer": "ipython3",
   "version": "3.13.3"
  }
 },
 "nbformat": 4,
 "nbformat_minor": 5
}
